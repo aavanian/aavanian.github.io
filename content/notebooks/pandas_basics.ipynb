{
 "cells": [
  {
   "cell_type": "markdown",
   "metadata": {},
   "source": [
    "# Financial Analysis in Python"
   ]
  },
  {
   "cell_type": "markdown",
   "metadata": {},
   "source": [
    "What you will learn in this tutorial\n",
    "------------------------------------\n",
    "\n",
    "* Timeseries analysis using Pandas\n",
    "* Using Google Trends to predict market movements\n",
    "* Build your own trading strategy using Zipline\n",
    "* Common trading strategies:\n",
    "   * Momentum trading\n",
    "   * Mean-reversion"
   ]
  },
  {
   "cell_type": "markdown",
   "metadata": {},
   "source": [
    "Different stages towards a successful trading strategy\n",
    "------------------------------------------------------\n",
    "\n",
    "1. Data analysis / Idea generation\n",
    "   * Pandas + Matplotlib (Part I)\n",
    "2. Backtest strategy\n",
    "   * Pandas can be used but many limitations (Part II)\n",
    "   * -> Zipline (Part III)\n",
    "3. Optimize\n",
    "   * See my previous [PyData talk](http://blog.quantopian.com/zipline_in_the_cloud/)\n",
    "4. Forward test strategy (paper trading)\n",
    "   * Trivial on Quantopian (Part IV)\n",
    "5. Live trading!\n",
    "   * Coming soon..."
   ]
  },
  {
   "cell_type": "markdown",
   "metadata": {},
   "source": [
    "# Pandas basics (Data analysis / Idea generation)"
   ]
  },
  {
   "cell_type": "code",
   "execution_count": 1,
   "metadata": {
    "collapsed": false
   },
   "outputs": [
    {
     "name": "stdout",
     "output_type": "stream",
     "text": [
      "Populating the interactive namespace from numpy and matplotlib\n"
     ]
    },
    {
     "data": {
      "text/html": [
       "<iframe src=http://pandas.pydata.org width=800 height=350></iframe>"
      ],
      "text/plain": [
       "<IPython.core.display.HTML object>"
      ]
     },
     "execution_count": 1,
     "metadata": {},
     "output_type": "execute_result"
    }
   ],
   "source": [
    "%pylab inline\n",
    "from IPython.core.display import HTML\n",
    "HTML(\"<iframe src=http://pandas.pydata.org width=800 height=350></iframe>\")"
   ]
  },
  {
   "cell_type": "code",
   "execution_count": 2,
   "metadata": {
    "collapsed": false
   },
   "outputs": [
    {
     "data": {
      "text/plain": [
       "'0.15.2'"
      ]
     },
     "execution_count": 2,
     "metadata": {},
     "output_type": "execute_result"
    }
   ],
   "source": [
    "import datetime\n",
    "\n",
    "import pandas as pd\n",
    "import pandas.io.data\n",
    "from pandas import Series, DataFrame\n",
    "pd.__version__"
   ]
  },
  {
   "cell_type": "code",
   "execution_count": 3,
   "metadata": {
    "collapsed": false
   },
   "outputs": [
    {
     "data": {
      "text/plain": [
       "'1.4.3'"
      ]
     },
     "execution_count": 3,
     "metadata": {},
     "output_type": "execute_result"
    }
   ],
   "source": [
    "import matplotlib.pyplot as plt\n",
    "import matplotlib as mpl\n",
    "mpl.rc('figure', figsize=(8, 7))\n",
    "mpl.__version__"
   ]
  },
  {
   "cell_type": "markdown",
   "metadata": {},
   "source": [
    "Creating/loading time series data\n",
    "===================\n",
    "\n",
    "* From Python structures\n",
    "* From Yahoo finance\n",
    "* From CSV files"
   ]
  },
  {
   "cell_type": "markdown",
   "metadata": {},
   "source": [
    "### From Python structures"
   ]
  },
  {
   "cell_type": "code",
   "execution_count": 4,
   "metadata": {
    "collapsed": false
   },
   "outputs": [
    {
     "data": {
      "text/plain": [
       "a    1\n",
       "b    2\n",
       "c    3\n",
       "d    4\n",
       "e    5\n",
       "dtype: int64"
      ]
     },
     "execution_count": 4,
     "metadata": {},
     "output_type": "execute_result"
    }
   ],
   "source": [
    "labels = ['a', 'b', 'c', 'd', 'e']\n",
    "s = Series([1, 2, 3, 4, 5], index=labels)\n",
    "s"
   ]
  },
  {
   "cell_type": "code",
   "execution_count": 5,
   "metadata": {
    "collapsed": false
   },
   "outputs": [
    {
     "data": {
      "text/plain": [
       "True"
      ]
     },
     "execution_count": 5,
     "metadata": {},
     "output_type": "execute_result"
    }
   ],
   "source": [
    "'b' in s"
   ]
  },
  {
   "cell_type": "code",
   "execution_count": 6,
   "metadata": {
    "collapsed": false,
    "scrolled": true
   },
   "outputs": [
    {
     "data": {
      "text/plain": [
       "2"
      ]
     },
     "execution_count": 6,
     "metadata": {},
     "output_type": "execute_result"
    }
   ],
   "source": [
    "s['b']"
   ]
  },
  {
   "cell_type": "code",
   "execution_count": 8,
   "metadata": {
    "collapsed": false
   },
   "outputs": [
    {
     "data": {
      "text/plain": [
       "{'a': 1, 'b': 2, 'c': 3, 'd': 4, 'e': 5}"
      ]
     },
     "execution_count": 8,
     "metadata": {},
     "output_type": "execute_result"
    }
   ],
   "source": [
    "mapping = s.to_dict()\n",
    "mapping"
   ]
  },
  {
   "cell_type": "code",
   "execution_count": 9,
   "metadata": {
    "collapsed": false
   },
   "outputs": [
    {
     "data": {
      "text/plain": [
       "a    1\n",
       "b    2\n",
       "c    3\n",
       "d    4\n",
       "e    5\n",
       "dtype: int64"
      ]
     },
     "execution_count": 9,
     "metadata": {},
     "output_type": "execute_result"
    }
   ],
   "source": [
    "Series(mapping)"
   ]
  },
  {
   "cell_type": "markdown",
   "metadata": {},
   "source": [
    "### From Yahoo finance"
   ]
  },
  {
   "cell_type": "code",
   "execution_count": 10,
   "metadata": {
    "collapsed": false
   },
   "outputs": [
    {
     "data": {
      "text/html": [
       "<div style=\"max-height:1000px;max-width:1500px;overflow:auto;\">\n",
       "<table border=\"1\" class=\"dataframe\">\n",
       "  <thead>\n",
       "    <tr style=\"text-align: right;\">\n",
       "      <th></th>\n",
       "      <th>Open</th>\n",
       "      <th>High</th>\n",
       "      <th>Low</th>\n",
       "      <th>Close</th>\n",
       "      <th>Volume</th>\n",
       "      <th>Adj Close</th>\n",
       "    </tr>\n",
       "    <tr>\n",
       "      <th>Date</th>\n",
       "      <th></th>\n",
       "      <th></th>\n",
       "      <th></th>\n",
       "      <th></th>\n",
       "      <th></th>\n",
       "      <th></th>\n",
       "    </tr>\n",
       "  </thead>\n",
       "  <tbody>\n",
       "    <tr>\n",
       "      <th>2006-10-02</th>\n",
       "      <td> 75.099990</td>\n",
       "      <td> 75.869987</td>\n",
       "      <td> 74.300032</td>\n",
       "      <td> 74.860031</td>\n",
       "      <td> 178159800</td>\n",
       "      <td> 10.045499</td>\n",
       "    </tr>\n",
       "    <tr>\n",
       "      <th>2006-10-03</th>\n",
       "      <td> 74.449968</td>\n",
       "      <td> 74.949980</td>\n",
       "      <td> 73.189973</td>\n",
       "      <td> 74.080020</td>\n",
       "      <td> 197677200</td>\n",
       "      <td>  9.940829</td>\n",
       "    </tr>\n",
       "    <tr>\n",
       "      <th>2006-10-04</th>\n",
       "      <td> 74.099967</td>\n",
       "      <td> 75.459998</td>\n",
       "      <td> 73.160012</td>\n",
       "      <td> 75.379990</td>\n",
       "      <td> 207270700</td>\n",
       "      <td> 10.115272</td>\n",
       "    </tr>\n",
       "    <tr>\n",
       "      <th>2006-10-05</th>\n",
       "      <td> 74.529977</td>\n",
       "      <td> 76.160001</td>\n",
       "      <td> 74.130001</td>\n",
       "      <td> 74.829997</td>\n",
       "      <td> 170970800</td>\n",
       "      <td> 10.041468</td>\n",
       "    </tr>\n",
       "    <tr>\n",
       "      <th>2006-10-06</th>\n",
       "      <td> 74.420008</td>\n",
       "      <td> 75.040002</td>\n",
       "      <td> 73.810027</td>\n",
       "      <td> 74.220023</td>\n",
       "      <td> 116739700</td>\n",
       "      <td>  9.959616</td>\n",
       "    </tr>\n",
       "  </tbody>\n",
       "</table>\n",
       "</div>"
      ],
      "text/plain": [
       "                 Open       High        Low      Close     Volume  Adj Close\n",
       "Date                                                                        \n",
       "2006-10-02  75.099990  75.869987  74.300032  74.860031  178159800  10.045499\n",
       "2006-10-03  74.449968  74.949980  73.189973  74.080020  197677200   9.940829\n",
       "2006-10-04  74.099967  75.459998  73.160012  75.379990  207270700  10.115272\n",
       "2006-10-05  74.529977  76.160001  74.130001  74.829997  170970800  10.041468\n",
       "2006-10-06  74.420008  75.040002  73.810027  74.220023  116739700   9.959616"
      ]
     },
     "execution_count": 10,
     "metadata": {},
     "output_type": "execute_result"
    }
   ],
   "source": [
    "aapl = pd.io.data.get_data_yahoo('AAPL', \n",
    "                                 start=datetime.datetime(2006, 10, 1), \n",
    "                                 end=datetime.datetime(2012, 1, 1))\n",
    "aapl.head()"
   ]
  },
  {
   "cell_type": "markdown",
   "metadata": {},
   "source": [
    "### From CSV files"
   ]
  },
  {
   "cell_type": "code",
   "execution_count": 11,
   "metadata": {
    "collapsed": false
   },
   "outputs": [
    {
     "name": "stdout",
     "output_type": "stream",
     "text": [
      "Date,Open,High,Low,Close,Volume,Adj Close\r\n",
      "2006-10-02,75.09999,75.869987,74.300032,74.860031,178159800,10.045499000000001\r\n",
      "2006-10-03,74.449968,74.94998000000001,73.189973,74.08001999999999,197677200,9.940828999999999\r\n",
      "2006-10-04,74.099967,75.459998,73.160012,75.37999,207270700,10.115272000000001\r\n",
      "2006-10-05,74.529977,76.160001,74.13000100000001,74.82999699999999,170970800,10.041468\r\n",
      "2006-10-06,74.420008,75.040002,73.810027,74.220023,116739700,9.959616\r\n",
      "2006-10-09,73.80001999999999,75.07996899999999,73.530027,74.630013,109555600,10.014632\r\n",
      "2006-10-10,74.53999,74.580031,73.07999699999999,73.810027,132897100,9.904598\r\n",
      "2006-10-11,73.41999100000001,73.979991,72.600013,73.230007,142963800,9.826765\r\n",
      "2006-10-12,73.60996899999999,75.39000300000001,73.600029,75.260007,148213800,10.099172\r\n"
     ]
    }
   ],
   "source": [
    "aapl.to_csv('data/aapl_ohlc.csv')\n",
    "!head data/aapl_ohlc.csv"
   ]
  },
  {
   "cell_type": "code",
   "execution_count": 12,
   "metadata": {
    "collapsed": false
   },
   "outputs": [
    {
     "data": {
      "text/html": [
       "<div style=\"max-height:1000px;max-width:1500px;overflow:auto;\">\n",
       "<table border=\"1\" class=\"dataframe\">\n",
       "  <thead>\n",
       "    <tr style=\"text-align: right;\">\n",
       "      <th></th>\n",
       "      <th>Open</th>\n",
       "      <th>High</th>\n",
       "      <th>Low</th>\n",
       "      <th>Close</th>\n",
       "      <th>Volume</th>\n",
       "      <th>Adj Close</th>\n",
       "    </tr>\n",
       "    <tr>\n",
       "      <th>Date</th>\n",
       "      <th></th>\n",
       "      <th></th>\n",
       "      <th></th>\n",
       "      <th></th>\n",
       "      <th></th>\n",
       "      <th></th>\n",
       "    </tr>\n",
       "  </thead>\n",
       "  <tbody>\n",
       "    <tr>\n",
       "      <th>2006-10-02</th>\n",
       "      <td> 75.099990</td>\n",
       "      <td> 75.869987</td>\n",
       "      <td> 74.300032</td>\n",
       "      <td> 74.860031</td>\n",
       "      <td> 178159800</td>\n",
       "      <td> 10.045499</td>\n",
       "    </tr>\n",
       "    <tr>\n",
       "      <th>2006-10-03</th>\n",
       "      <td> 74.449968</td>\n",
       "      <td> 74.949980</td>\n",
       "      <td> 73.189973</td>\n",
       "      <td> 74.080020</td>\n",
       "      <td> 197677200</td>\n",
       "      <td>  9.940829</td>\n",
       "    </tr>\n",
       "    <tr>\n",
       "      <th>2006-10-04</th>\n",
       "      <td> 74.099967</td>\n",
       "      <td> 75.459998</td>\n",
       "      <td> 73.160012</td>\n",
       "      <td> 75.379990</td>\n",
       "      <td> 207270700</td>\n",
       "      <td> 10.115272</td>\n",
       "    </tr>\n",
       "    <tr>\n",
       "      <th>2006-10-05</th>\n",
       "      <td> 74.529977</td>\n",
       "      <td> 76.160001</td>\n",
       "      <td> 74.130001</td>\n",
       "      <td> 74.829997</td>\n",
       "      <td> 170970800</td>\n",
       "      <td> 10.041468</td>\n",
       "    </tr>\n",
       "    <tr>\n",
       "      <th>2006-10-06</th>\n",
       "      <td> 74.420008</td>\n",
       "      <td> 75.040002</td>\n",
       "      <td> 73.810027</td>\n",
       "      <td> 74.220023</td>\n",
       "      <td> 116739700</td>\n",
       "      <td>  9.959616</td>\n",
       "    </tr>\n",
       "  </tbody>\n",
       "</table>\n",
       "</div>"
      ],
      "text/plain": [
       "                 Open       High        Low      Close     Volume  Adj Close\n",
       "Date                                                                        \n",
       "2006-10-02  75.099990  75.869987  74.300032  74.860031  178159800  10.045499\n",
       "2006-10-03  74.449968  74.949980  73.189973  74.080020  197677200   9.940829\n",
       "2006-10-04  74.099967  75.459998  73.160012  75.379990  207270700  10.115272\n",
       "2006-10-05  74.529977  76.160001  74.130001  74.829997  170970800  10.041468\n",
       "2006-10-06  74.420008  75.040002  73.810027  74.220023  116739700   9.959616"
      ]
     },
     "execution_count": 12,
     "metadata": {},
     "output_type": "execute_result"
    }
   ],
   "source": [
    "df = pd.read_csv('data/aapl_ohlc.csv', index_col='Date', parse_dates=True)\n",
    "df.head()"
   ]
  },
  {
   "cell_type": "code",
   "execution_count": 13,
   "metadata": {
    "collapsed": false
   },
   "outputs": [
    {
     "data": {
      "text/plain": [
       "<class 'pandas.tseries.index.DatetimeIndex'>\n",
       "[2006-10-02, ..., 2011-12-30]\n",
       "Length: 1323, Freq: None, Timezone: None"
      ]
     },
     "execution_count": 13,
     "metadata": {},
     "output_type": "execute_result"
    }
   ],
   "source": [
    "df.index"
   ]
  },
  {
   "cell_type": "markdown",
   "metadata": {},
   "source": [
    "Series and DataFrame: First steps\n",
    "=================================\n",
    "\n",
    "* Indexing\n",
    "* Slicing\n",
    "* Creating new columns"
   ]
  },
  {
   "cell_type": "code",
   "execution_count": 14,
   "metadata": {
    "collapsed": false
   },
   "outputs": [
    {
     "data": {
      "text/plain": [
       "Date\n",
       "2011-12-16    381.020016\n",
       "2011-12-19    382.210003\n",
       "2011-12-20    395.950024\n",
       "2011-12-21    396.449982\n",
       "2011-12-22    398.549976\n",
       "2011-12-23    403.329979\n",
       "2011-12-27    406.529972\n",
       "2011-12-28    402.640003\n",
       "2011-12-29    405.120033\n",
       "2011-12-30    404.999977\n",
       "Name: Close, dtype: float64"
      ]
     },
     "execution_count": 14,
     "metadata": {},
     "output_type": "execute_result"
    }
   ],
   "source": [
    "ts = df['Close'][-10:]\n",
    "ts"
   ]
  },
  {
   "cell_type": "markdown",
   "metadata": {},
   "source": [
    "A DataFrame is a collection of Series objects. Slicing out a DataFrame column returns a Series."
   ]
  },
  {
   "cell_type": "code",
   "execution_count": 15,
   "metadata": {
    "collapsed": false
   },
   "outputs": [
    {
     "data": {
      "text/plain": [
       "pandas.core.series.Series"
      ]
     },
     "execution_count": 15,
     "metadata": {},
     "output_type": "execute_result"
    }
   ],
   "source": [
    "type(ts)"
   ]
  },
  {
   "cell_type": "code",
   "execution_count": 16,
   "metadata": {
    "collapsed": false
   },
   "outputs": [
    {
     "data": {
      "text/plain": [
       "Timestamp('2011-12-23 00:00:00')"
      ]
     },
     "execution_count": 16,
     "metadata": {},
     "output_type": "execute_result"
    }
   ],
   "source": [
    "date = ts.index[5]\n",
    "date"
   ]
  },
  {
   "cell_type": "code",
   "execution_count": 17,
   "metadata": {
    "collapsed": false
   },
   "outputs": [
    {
     "data": {
      "text/plain": [
       "403.32997899999998"
      ]
     },
     "execution_count": 17,
     "metadata": {},
     "output_type": "execute_result"
    }
   ],
   "source": [
    "ts[date]"
   ]
  },
  {
   "cell_type": "code",
   "execution_count": 18,
   "metadata": {
    "collapsed": false
   },
   "outputs": [
    {
     "data": {
      "text/plain": [
       "403.32997899999998"
      ]
     },
     "execution_count": 18,
     "metadata": {},
     "output_type": "execute_result"
    }
   ],
   "source": [
    "ts[5]"
   ]
  },
  {
   "cell_type": "markdown",
   "metadata": {},
   "source": [
    "We can also select multiple columns."
   ]
  },
  {
   "cell_type": "code",
   "execution_count": 19,
   "metadata": {
    "collapsed": false
   },
   "outputs": [
    {
     "data": {
      "text/html": [
       "<div style=\"max-height:1000px;max-width:1500px;overflow:auto;\">\n",
       "<table border=\"1\" class=\"dataframe\">\n",
       "  <thead>\n",
       "    <tr style=\"text-align: right;\">\n",
       "      <th></th>\n",
       "      <th>Open</th>\n",
       "      <th>Close</th>\n",
       "    </tr>\n",
       "    <tr>\n",
       "      <th>Date</th>\n",
       "      <th></th>\n",
       "      <th></th>\n",
       "    </tr>\n",
       "  </thead>\n",
       "  <tbody>\n",
       "    <tr>\n",
       "      <th>2006-10-02</th>\n",
       "      <td> 75.099990</td>\n",
       "      <td> 74.860031</td>\n",
       "    </tr>\n",
       "    <tr>\n",
       "      <th>2006-10-03</th>\n",
       "      <td> 74.449968</td>\n",
       "      <td> 74.080020</td>\n",
       "    </tr>\n",
       "    <tr>\n",
       "      <th>2006-10-04</th>\n",
       "      <td> 74.099967</td>\n",
       "      <td> 75.379990</td>\n",
       "    </tr>\n",
       "    <tr>\n",
       "      <th>2006-10-05</th>\n",
       "      <td> 74.529977</td>\n",
       "      <td> 74.829997</td>\n",
       "    </tr>\n",
       "    <tr>\n",
       "      <th>2006-10-06</th>\n",
       "      <td> 74.420008</td>\n",
       "      <td> 74.220023</td>\n",
       "    </tr>\n",
       "  </tbody>\n",
       "</table>\n",
       "</div>"
      ],
      "text/plain": [
       "                 Open      Close\n",
       "Date                            \n",
       "2006-10-02  75.099990  74.860031\n",
       "2006-10-03  74.449968  74.080020\n",
       "2006-10-04  74.099967  75.379990\n",
       "2006-10-05  74.529977  74.829997\n",
       "2006-10-06  74.420008  74.220023"
      ]
     },
     "execution_count": 19,
     "metadata": {},
     "output_type": "execute_result"
    }
   ],
   "source": [
    "df[['Open', 'Close']].head()"
   ]
  },
  {
   "cell_type": "markdown",
   "metadata": {},
   "source": [
    "New columns can be added on the fly."
   ]
  },
  {
   "cell_type": "code",
   "execution_count": 20,
   "metadata": {
    "collapsed": false
   },
   "outputs": [
    {
     "data": {
      "text/html": [
       "<div style=\"max-height:1000px;max-width:1500px;overflow:auto;\">\n",
       "<table border=\"1\" class=\"dataframe\">\n",
       "  <thead>\n",
       "    <tr style=\"text-align: right;\">\n",
       "      <th></th>\n",
       "      <th>Open</th>\n",
       "      <th>High</th>\n",
       "      <th>Low</th>\n",
       "      <th>Close</th>\n",
       "      <th>Volume</th>\n",
       "      <th>Adj Close</th>\n",
       "      <th>diff</th>\n",
       "    </tr>\n",
       "    <tr>\n",
       "      <th>Date</th>\n",
       "      <th></th>\n",
       "      <th></th>\n",
       "      <th></th>\n",
       "      <th></th>\n",
       "      <th></th>\n",
       "      <th></th>\n",
       "      <th></th>\n",
       "    </tr>\n",
       "  </thead>\n",
       "  <tbody>\n",
       "    <tr>\n",
       "      <th>2006-10-02</th>\n",
       "      <td> 75.099990</td>\n",
       "      <td> 75.869987</td>\n",
       "      <td> 74.300032</td>\n",
       "      <td> 74.860031</td>\n",
       "      <td> 178159800</td>\n",
       "      <td> 10.045499</td>\n",
       "      <td> 0.239959</td>\n",
       "    </tr>\n",
       "    <tr>\n",
       "      <th>2006-10-03</th>\n",
       "      <td> 74.449968</td>\n",
       "      <td> 74.949980</td>\n",
       "      <td> 73.189973</td>\n",
       "      <td> 74.080020</td>\n",
       "      <td> 197677200</td>\n",
       "      <td>  9.940829</td>\n",
       "      <td> 0.369948</td>\n",
       "    </tr>\n",
       "    <tr>\n",
       "      <th>2006-10-04</th>\n",
       "      <td> 74.099967</td>\n",
       "      <td> 75.459998</td>\n",
       "      <td> 73.160012</td>\n",
       "      <td> 75.379990</td>\n",
       "      <td> 207270700</td>\n",
       "      <td> 10.115272</td>\n",
       "      <td>-1.280023</td>\n",
       "    </tr>\n",
       "    <tr>\n",
       "      <th>2006-10-05</th>\n",
       "      <td> 74.529977</td>\n",
       "      <td> 76.160001</td>\n",
       "      <td> 74.130001</td>\n",
       "      <td> 74.829997</td>\n",
       "      <td> 170970800</td>\n",
       "      <td> 10.041468</td>\n",
       "      <td>-0.300020</td>\n",
       "    </tr>\n",
       "    <tr>\n",
       "      <th>2006-10-06</th>\n",
       "      <td> 74.420008</td>\n",
       "      <td> 75.040002</td>\n",
       "      <td> 73.810027</td>\n",
       "      <td> 74.220023</td>\n",
       "      <td> 116739700</td>\n",
       "      <td>  9.959616</td>\n",
       "      <td> 0.199985</td>\n",
       "    </tr>\n",
       "  </tbody>\n",
       "</table>\n",
       "</div>"
      ],
      "text/plain": [
       "                 Open       High        Low      Close     Volume  Adj Close  \\\n",
       "Date                                                                           \n",
       "2006-10-02  75.099990  75.869987  74.300032  74.860031  178159800  10.045499   \n",
       "2006-10-03  74.449968  74.949980  73.189973  74.080020  197677200   9.940829   \n",
       "2006-10-04  74.099967  75.459998  73.160012  75.379990  207270700  10.115272   \n",
       "2006-10-05  74.529977  76.160001  74.130001  74.829997  170970800  10.041468   \n",
       "2006-10-06  74.420008  75.040002  73.810027  74.220023  116739700   9.959616   \n",
       "\n",
       "                diff  \n",
       "Date                  \n",
       "2006-10-02  0.239959  \n",
       "2006-10-03  0.369948  \n",
       "2006-10-04 -1.280023  \n",
       "2006-10-05 -0.300020  \n",
       "2006-10-06  0.199985  "
      ]
     },
     "execution_count": 20,
     "metadata": {},
     "output_type": "execute_result"
    }
   ],
   "source": [
    "df['diff'] = df.Open - df.Close\n",
    "df.head()"
   ]
  },
  {
   "cell_type": "markdown",
   "metadata": {},
   "source": [
    "...and deleted on the fly."
   ]
  },
  {
   "cell_type": "code",
   "execution_count": 21,
   "metadata": {
    "collapsed": false
   },
   "outputs": [
    {
     "data": {
      "text/html": [
       "<div style=\"max-height:1000px;max-width:1500px;overflow:auto;\">\n",
       "<table border=\"1\" class=\"dataframe\">\n",
       "  <thead>\n",
       "    <tr style=\"text-align: right;\">\n",
       "      <th></th>\n",
       "      <th>Open</th>\n",
       "      <th>High</th>\n",
       "      <th>Low</th>\n",
       "      <th>Close</th>\n",
       "      <th>Volume</th>\n",
       "      <th>Adj Close</th>\n",
       "    </tr>\n",
       "    <tr>\n",
       "      <th>Date</th>\n",
       "      <th></th>\n",
       "      <th></th>\n",
       "      <th></th>\n",
       "      <th></th>\n",
       "      <th></th>\n",
       "      <th></th>\n",
       "    </tr>\n",
       "  </thead>\n",
       "  <tbody>\n",
       "    <tr>\n",
       "      <th>2006-10-02</th>\n",
       "      <td> 75.099990</td>\n",
       "      <td> 75.869987</td>\n",
       "      <td> 74.300032</td>\n",
       "      <td> 74.860031</td>\n",
       "      <td> 178159800</td>\n",
       "      <td> 10.045499</td>\n",
       "    </tr>\n",
       "    <tr>\n",
       "      <th>2006-10-03</th>\n",
       "      <td> 74.449968</td>\n",
       "      <td> 74.949980</td>\n",
       "      <td> 73.189973</td>\n",
       "      <td> 74.080020</td>\n",
       "      <td> 197677200</td>\n",
       "      <td>  9.940829</td>\n",
       "    </tr>\n",
       "    <tr>\n",
       "      <th>2006-10-04</th>\n",
       "      <td> 74.099967</td>\n",
       "      <td> 75.459998</td>\n",
       "      <td> 73.160012</td>\n",
       "      <td> 75.379990</td>\n",
       "      <td> 207270700</td>\n",
       "      <td> 10.115272</td>\n",
       "    </tr>\n",
       "    <tr>\n",
       "      <th>2006-10-05</th>\n",
       "      <td> 74.529977</td>\n",
       "      <td> 76.160001</td>\n",
       "      <td> 74.130001</td>\n",
       "      <td> 74.829997</td>\n",
       "      <td> 170970800</td>\n",
       "      <td> 10.041468</td>\n",
       "    </tr>\n",
       "    <tr>\n",
       "      <th>2006-10-06</th>\n",
       "      <td> 74.420008</td>\n",
       "      <td> 75.040002</td>\n",
       "      <td> 73.810027</td>\n",
       "      <td> 74.220023</td>\n",
       "      <td> 116739700</td>\n",
       "      <td>  9.959616</td>\n",
       "    </tr>\n",
       "  </tbody>\n",
       "</table>\n",
       "</div>"
      ],
      "text/plain": [
       "                 Open       High        Low      Close     Volume  Adj Close\n",
       "Date                                                                        \n",
       "2006-10-02  75.099990  75.869987  74.300032  74.860031  178159800  10.045499\n",
       "2006-10-03  74.449968  74.949980  73.189973  74.080020  197677200   9.940829\n",
       "2006-10-04  74.099967  75.459998  73.160012  75.379990  207270700  10.115272\n",
       "2006-10-05  74.529977  76.160001  74.130001  74.829997  170970800  10.041468\n",
       "2006-10-06  74.420008  75.040002  73.810027  74.220023  116739700   9.959616"
      ]
     },
     "execution_count": 21,
     "metadata": {},
     "output_type": "execute_result"
    }
   ],
   "source": [
    "del df['diff']\n",
    "df.head()"
   ]
  },
  {
   "cell_type": "markdown",
   "metadata": {},
   "source": [
    "Common Financial Computations\n",
    "-----------------------------\n",
    "\n",
    "* Moving Average\n",
    "* Returns"
   ]
  },
  {
   "cell_type": "code",
   "execution_count": 22,
   "metadata": {
    "collapsed": false
   },
   "outputs": [],
   "source": [
    "close_px = df['Adj Close']"
   ]
  },
  {
   "cell_type": "code",
   "execution_count": 23,
   "metadata": {
    "collapsed": false
   },
   "outputs": [
    {
     "data": {
      "text/plain": [
       "Date\n",
       "2011-12-16    52.160854\n",
       "2011-12-19    52.125092\n",
       "2011-12-20    52.092149\n",
       "2011-12-21    52.087720\n",
       "2011-12-22    52.080843\n",
       "2011-12-23    52.076280\n",
       "2011-12-27    52.081581\n",
       "2011-12-28    52.074402\n",
       "2011-12-29    52.103286\n",
       "2011-12-30    52.128749\n",
       "dtype: float64"
      ]
     },
     "execution_count": 23,
     "metadata": {},
     "output_type": "execute_result"
    }
   ],
   "source": [
    "mavg = pd.rolling_mean(close_px, 40)\n",
    "mavg[-10:]"
   ]
  },
  {
   "cell_type": "markdown",
   "metadata": {},
   "source": [
    "Returns defined as: \n",
    "$$ $$\n",
    "$$r_t = \\frac{p_t - p_{t-1}}{p_{t-1}} = \\frac{p_t}{p_{t-1}} - 1$$"
   ]
  },
  {
   "cell_type": "code",
   "execution_count": 24,
   "metadata": {
    "collapsed": false
   },
   "outputs": [
    {
     "data": {
      "text/plain": [
       "Date\n",
       "2006-10-02         NaN\n",
       "2006-10-03   -0.010420\n",
       "2006-10-04    0.017548\n",
       "2006-10-05   -0.007296\n",
       "2006-10-06   -0.008151\n",
       "Name: Adj Close, dtype: float64"
      ]
     },
     "execution_count": 24,
     "metadata": {},
     "output_type": "execute_result"
    }
   ],
   "source": [
    "rets = close_px / close_px.shift(1) - 1\n",
    "rets.head()"
   ]
  },
  {
   "cell_type": "markdown",
   "metadata": {},
   "source": [
    "Or alternatively `.pct_change()`."
   ]
  },
  {
   "cell_type": "code",
   "execution_count": 25,
   "metadata": {
    "collapsed": false
   },
   "outputs": [
    {
     "data": {
      "text/plain": [
       "Date\n",
       "2006-10-02         NaN\n",
       "2006-10-03   -0.010420\n",
       "2006-10-04    0.017548\n",
       "2006-10-05   -0.007296\n",
       "2006-10-06   -0.008151\n",
       "Name: Adj Close, dtype: float64"
      ]
     },
     "execution_count": 25,
     "metadata": {},
     "output_type": "execute_result"
    }
   ],
   "source": [
    "close_px.pct_change().head()"
   ]
  },
  {
   "cell_type": "markdown",
   "metadata": {},
   "source": [
    "Plotting Basics\n",
    "---------------"
   ]
  },
  {
   "cell_type": "markdown",
   "metadata": {},
   "source": [
    "Series and DataFrames have an associated `.plot()` command (uses Matplotlib behind the scenes)."
   ]
  },
  {
   "cell_type": "code",
   "execution_count": 26,
   "metadata": {
    "collapsed": false
   },
   "outputs": [
    {
     "data": {
      "text/plain": [
       "<matplotlib.legend.Legend at 0x10d08b7f0>"
      ]
     },
     "execution_count": 26,
     "metadata": {},
     "output_type": "execute_result"
    },
    {
     "data": {
      "image/png": "[encoded data removed]",
      "text/plain": [
       "<matplotlib.figure.Figure at 0x10d08b710>"
      ]
     },
     "metadata": {},
     "output_type": "display_data"
    }
   ],
   "source": [
    "close_px.plot(label='AAPL')\n",
    "mavg.plot(label='mavg')\n",
    "plt.legend()"
   ]
  },
  {
   "cell_type": "markdown",
   "metadata": {},
   "source": [
    "## Optional: If there is time..."
   ]
  },
  {
   "cell_type": "code",
   "execution_count": 32,
   "metadata": {
    "collapsed": false
   },
   "outputs": [
    {
     "data": {
      "text/html": [
       "<div style=\"max-height:1000px;max-width:1500px;overflow:auto;\">\n",
       "<table border=\"1\" class=\"dataframe\">\n",
       "  <thead>\n",
       "    <tr style=\"text-align: right;\">\n",
       "      <th></th>\n",
       "      <th>AAPL</th>\n",
       "      <th>GE</th>\n",
       "      <th>IBM</th>\n",
       "      <th>KO</th>\n",
       "      <th>MSFT</th>\n",
       "      <th>PEP</th>\n",
       "    </tr>\n",
       "    <tr>\n",
       "      <th>Date</th>\n",
       "      <th></th>\n",
       "      <th></th>\n",
       "      <th></th>\n",
       "      <th></th>\n",
       "      <th></th>\n",
       "      <th></th>\n",
       "    </tr>\n",
       "  </thead>\n",
       "  <tbody>\n",
       "    <tr>\n",
       "      <th>2010-01-04</th>\n",
       "      <td> 28.718094</td>\n",
       "      <td> 12.866287</td>\n",
       "      <td> 118.634733</td>\n",
       "      <td> 24.265826</td>\n",
       "      <td> 26.769336</td>\n",
       "      <td> 52.077521</td>\n",
       "    </tr>\n",
       "    <tr>\n",
       "      <th>2010-01-05</th>\n",
       "      <td> 28.767737</td>\n",
       "      <td> 12.932908</td>\n",
       "      <td> 117.201630</td>\n",
       "      <td> 23.972286</td>\n",
       "      <td> 26.777984</td>\n",
       "      <td> 52.706803</td>\n",
       "    </tr>\n",
       "    <tr>\n",
       "      <th>2010-01-06</th>\n",
       "      <td> 28.310151</td>\n",
       "      <td> 12.866287</td>\n",
       "      <td> 116.440284</td>\n",
       "      <td> 23.963779</td>\n",
       "      <td> 26.613650</td>\n",
       "      <td> 52.179566</td>\n",
       "    </tr>\n",
       "    <tr>\n",
       "      <th>2010-01-07</th>\n",
       "      <td> 28.257821</td>\n",
       "      <td> 13.532503</td>\n",
       "      <td> 116.037224</td>\n",
       "      <td> 23.904219</td>\n",
       "      <td> 26.336875</td>\n",
       "      <td> 51.847917</td>\n",
       "    </tr>\n",
       "    <tr>\n",
       "      <th>2010-01-08</th>\n",
       "      <td> 28.445687</td>\n",
       "      <td> 13.823972</td>\n",
       "      <td> 117.201630</td>\n",
       "      <td> 23.461786</td>\n",
       "      <td> 26.518508</td>\n",
       "      <td> 51.677840</td>\n",
       "    </tr>\n",
       "  </tbody>\n",
       "</table>\n",
       "</div>"
      ],
      "text/plain": [
       "                 AAPL         GE         IBM         KO       MSFT        PEP\n",
       "Date                                                                         \n",
       "2010-01-04  28.718094  12.866287  118.634733  24.265826  26.769336  52.077521\n",
       "2010-01-05  28.767737  12.932908  117.201630  23.972286  26.777984  52.706803\n",
       "2010-01-06  28.310151  12.866287  116.440284  23.963779  26.613650  52.179566\n",
       "2010-01-07  28.257821  13.532503  116.037224  23.904219  26.336875  51.847917\n",
       "2010-01-08  28.445687  13.823972  117.201630  23.461786  26.518508  51.677840"
      ]
     },
     "execution_count": 32,
     "metadata": {},
     "output_type": "execute_result"
    }
   ],
   "source": [
    "df = pd.io.data.get_data_yahoo(['AAPL', 'GE', 'IBM', 'KO', 'MSFT', 'PEP'], \n",
    "                               start=datetime.datetime(2010, 1, 1), \n",
    "                               end=datetime.datetime(2013, 1, 1))['Adj Close']\n",
    "df.head()"
   ]
  },
  {
   "cell_type": "code",
   "execution_count": 33,
   "metadata": {
    "collapsed": false
   },
   "outputs": [],
   "source": [
    "rets = df.pct_change()"
   ]
  },
  {
   "cell_type": "code",
   "execution_count": 34,
   "metadata": {
    "collapsed": false
   },
   "outputs": [
    {
     "data": {
      "text/plain": [
       "<matplotlib.text.Text at 0x10a7bccf8>"
      ]
     },
     "execution_count": 34,
     "metadata": {},
     "output_type": "execute_result"
    },
    {
     "data": {
      "image/png": "[encoded data removed]",
      "text/plain": [
       "<matplotlib.figure.Figure at 0x10d293470>"
      ]
     },
     "metadata": {},
     "output_type": "display_data"
    }
   ],
   "source": [
    "plt.scatter(rets.PEP, rets.KO)\n",
    "plt.xlabel('Returns PEP')\n",
    "plt.ylabel('Returns KO')"
   ]
  },
  {
   "cell_type": "code",
   "execution_count": 35,
   "metadata": {
    "collapsed": false
   },
   "outputs": [
    {
     "data": {
      "image/png": "[encoded data removed]",
      "text/plain": [
       "<matplotlib.figure.Figure at 0x107814048>"
      ]
     },
     "metadata": {},
     "output_type": "display_data"
    }
   ],
   "source": [
    "pd.scatter_matrix(rets, diagonal='kde', figsize=(10, 10));"
   ]
  },
  {
   "cell_type": "code",
   "execution_count": 36,
   "metadata": {
    "collapsed": false
   },
   "outputs": [
    {
     "data": {
      "text/html": [
       "<div style=\"max-height:1000px;max-width:1500px;overflow:auto;\">\n",
       "<table border=\"1\" class=\"dataframe\">\n",
       "  <thead>\n",
       "    <tr style=\"text-align: right;\">\n",
       "      <th></th>\n",
       "      <th>AAPL</th>\n",
       "      <th>GE</th>\n",
       "      <th>IBM</th>\n",
       "      <th>KO</th>\n",
       "      <th>MSFT</th>\n",
       "      <th>PEP</th>\n",
       "    </tr>\n",
       "  </thead>\n",
       "  <tbody>\n",
       "    <tr>\n",
       "      <th>AAPL</th>\n",
       "      <td> 1.000000</td>\n",
       "      <td> 0.457052</td>\n",
       "      <td> 0.501587</td>\n",
       "      <td> 0.388006</td>\n",
       "      <td> 0.472767</td>\n",
       "      <td> 0.308963</td>\n",
       "    </tr>\n",
       "    <tr>\n",
       "      <th>GE</th>\n",
       "      <td> 0.457052</td>\n",
       "      <td> 1.000000</td>\n",
       "      <td> 0.609330</td>\n",
       "      <td> 0.593856</td>\n",
       "      <td> 0.600065</td>\n",
       "      <td> 0.533503</td>\n",
       "    </tr>\n",
       "    <tr>\n",
       "      <th>IBM</th>\n",
       "      <td> 0.501587</td>\n",
       "      <td> 0.609330</td>\n",
       "      <td> 1.000000</td>\n",
       "      <td> 0.601483</td>\n",
       "      <td> 0.646124</td>\n",
       "      <td> 0.491088</td>\n",
       "    </tr>\n",
       "    <tr>\n",
       "      <th>KO</th>\n",
       "      <td> 0.388006</td>\n",
       "      <td> 0.593856</td>\n",
       "      <td> 0.601483</td>\n",
       "      <td> 1.000000</td>\n",
       "      <td> 0.523480</td>\n",
       "      <td> 0.635843</td>\n",
       "    </tr>\n",
       "    <tr>\n",
       "      <th>MSFT</th>\n",
       "      <td> 0.472767</td>\n",
       "      <td> 0.600065</td>\n",
       "      <td> 0.646124</td>\n",
       "      <td> 0.523480</td>\n",
       "      <td> 1.000000</td>\n",
       "      <td> 0.477424</td>\n",
       "    </tr>\n",
       "    <tr>\n",
       "      <th>PEP</th>\n",
       "      <td> 0.308963</td>\n",
       "      <td> 0.533503</td>\n",
       "      <td> 0.491088</td>\n",
       "      <td> 0.635843</td>\n",
       "      <td> 0.477424</td>\n",
       "      <td> 1.000000</td>\n",
       "    </tr>\n",
       "  </tbody>\n",
       "</table>\n",
       "</div>"
      ],
      "text/plain": [
       "          AAPL        GE       IBM        KO      MSFT       PEP\n",
       "AAPL  1.000000  0.457052  0.501587  0.388006  0.472767  0.308963\n",
       "GE    0.457052  1.000000  0.609330  0.593856  0.600065  0.533503\n",
       "IBM   0.501587  0.609330  1.000000  0.601483  0.646124  0.491088\n",
       "KO    0.388006  0.593856  0.601483  1.000000  0.523480  0.635843\n",
       "MSFT  0.472767  0.600065  0.646124  0.523480  1.000000  0.477424\n",
       "PEP   0.308963  0.533503  0.491088  0.635843  0.477424  1.000000"
      ]
     },
     "execution_count": 36,
     "metadata": {},
     "output_type": "execute_result"
    }
   ],
   "source": [
    "corr = rets.corr()\n",
    "corr"
   ]
  },
  {
   "cell_type": "code",
   "execution_count": 37,
   "metadata": {
    "collapsed": false
   },
   "outputs": [
    {
     "data": {
      "image/png": "[encoded data removed]",
      "text/plain": [
       "<matplotlib.figure.Figure at 0x1078226d8>"
      ]
     },
     "metadata": {},
     "output_type": "display_data"
    }
   ],
   "source": [
    "plt.imshow(corr, cmap='hot', interpolation='none')\n",
    "plt.colorbar()\n",
    "plt.xticks(range(len(corr)), corr.columns)\n",
    "plt.yticks(range(len(corr)), corr.columns);"
   ]
  },
  {
   "cell_type": "markdown",
   "metadata": {},
   "source": [
    "One thing we are often interested in is the relationship of expected returns and the risk we are taking one. Often there is a trade-off between the two.\n",
    "\n",
    "Here we use `plt.annotate` to put labels on the scatterplot."
   ]
  },
  {
   "cell_type": "code",
   "execution_count": 38,
   "metadata": {
    "collapsed": false
   },
   "outputs": [
    {
     "data": {
      "image/png": "[encoded data removed]",
      "text/plain": [
       "<matplotlib.figure.Figure at 0x10b861ef0>"
      ]
     },
     "metadata": {},
     "output_type": "display_data"
    }
   ],
   "source": [
    "plt.scatter(rets.mean(), rets.std())\n",
    "plt.xlabel('Expected returns')\n",
    "plt.ylabel('Risk')\n",
    "for label, x, y in zip(rets.columns, rets.mean(), rets.std()):\n",
    "    plt.annotate(\n",
    "        label, \n",
    "        xy = (x, y), xytext = (20, -20),\n",
    "        textcoords = 'offset points', ha = 'right', va = 'bottom',\n",
    "        bbox = dict(boxstyle = 'round,pad=0.5', fc = 'yellow', alpha = 0.5),\n",
    "        arrowprops = dict(arrowstyle = '->', connectionstyle = 'arc3,rad=0'))"
   ]
  },
  {
   "cell_type": "markdown",
   "metadata": {},
   "source": [
    "Data alignment and dealing with missing values\n",
    "==============\n",
    "\n",
    "* Join, merge, concatenate\n",
    "* Filling NaNs"
   ]
  },
  {
   "cell_type": "markdown",
   "metadata": {},
   "source": [
    "Lets pull some more securities from Yahoo finance and build a DataFrame of the adjusted closing prices."
   ]
  },
  {
   "cell_type": "code",
   "execution_count": 41,
   "metadata": {
    "collapsed": false
   },
   "outputs": [],
   "source": [
    "series_list = []\n",
    "securities = ['AAPL', 'GOOG', 'IBM', 'MSFT']\n",
    "for security in securities:\n",
    "    s = pd.io.data.get_data_yahoo(security, start=datetime.datetime(2011, 10, 1), end=datetime.datetime(2015, 1, 1))['Adj Close']\n",
    "    s.name = security # Rename series to match security name\n",
    "    series_list.append(s)"
   ]
  },
  {
   "cell_type": "markdown",
   "metadata": {},
   "source": [
    "`pd.concat` can be used to concatenate multiple `Series` into one `DataFrame`."
   ]
  },
  {
   "cell_type": "code",
   "execution_count": 42,
   "metadata": {
    "collapsed": false
   },
   "outputs": [
    {
     "data": {
      "text/html": [
       "<div style=\"max-height:1000px;max-width:1500px;overflow:auto;\">\n",
       "<table border=\"1\" class=\"dataframe\">\n",
       "  <thead>\n",
       "    <tr style=\"text-align: right;\">\n",
       "      <th></th>\n",
       "      <th>AAPL</th>\n",
       "      <th>GOOG</th>\n",
       "      <th>IBM</th>\n",
       "      <th>MSFT</th>\n",
       "    </tr>\n",
       "    <tr>\n",
       "      <th>Date</th>\n",
       "      <th></th>\n",
       "      <th></th>\n",
       "      <th></th>\n",
       "      <th></th>\n",
       "    </tr>\n",
       "  </thead>\n",
       "  <tbody>\n",
       "    <tr>\n",
       "      <th>2011-10-03</th>\n",
       "      <td> 50.267733</td>\n",
       "      <td>NaN</td>\n",
       "      <td> 160.215759</td>\n",
       "      <td> 22.067647</td>\n",
       "    </tr>\n",
       "    <tr>\n",
       "      <th>2011-10-04</th>\n",
       "      <td> 49.985934</td>\n",
       "      <td>NaN</td>\n",
       "      <td> 161.556371</td>\n",
       "      <td> 22.796338</td>\n",
       "    </tr>\n",
       "    <tr>\n",
       "      <th>2011-10-05</th>\n",
       "      <td> 50.757520</td>\n",
       "      <td>NaN</td>\n",
       "      <td> 163.507179</td>\n",
       "      <td> 23.291127</td>\n",
       "    </tr>\n",
       "    <tr>\n",
       "      <th>2011-10-06</th>\n",
       "      <td> 50.639437</td>\n",
       "      <td>NaN</td>\n",
       "      <td> 167.982011</td>\n",
       "      <td> 23.695956</td>\n",
       "    </tr>\n",
       "    <tr>\n",
       "      <th>2011-10-07</th>\n",
       "      <td> 49.623615</td>\n",
       "      <td>NaN</td>\n",
       "      <td> 168.629195</td>\n",
       "      <td> 23.614990</td>\n",
       "    </tr>\n",
       "  </tbody>\n",
       "</table>\n",
       "</div>"
      ],
      "text/plain": [
       "                 AAPL  GOOG         IBM       MSFT\n",
       "Date                                              \n",
       "2011-10-03  50.267733   NaN  160.215759  22.067647\n",
       "2011-10-04  49.985934   NaN  161.556371  22.796338\n",
       "2011-10-05  50.757520   NaN  163.507179  23.291127\n",
       "2011-10-06  50.639437   NaN  167.982011  23.695956\n",
       "2011-10-07  49.623615   NaN  168.629195  23.614990"
      ]
     },
     "execution_count": 42,
     "metadata": {},
     "output_type": "execute_result"
    }
   ],
   "source": [
    "df = pd.concat(series_list, axis=1)\n",
    "df.head()"
   ]
  },
  {
   "cell_type": "code",
   "execution_count": 43,
   "metadata": {
    "collapsed": false
   },
   "outputs": [
    {
     "data": {
      "text/html": [
       "<div style=\"max-height:1000px;max-width:1500px;overflow:auto;\">\n",
       "<table border=\"1\" class=\"dataframe\">\n",
       "  <thead>\n",
       "    <tr style=\"text-align: right;\">\n",
       "      <th></th>\n",
       "      <th>AAPL</th>\n",
       "      <th>GOOG</th>\n",
       "      <th>IBM</th>\n",
       "      <th>MSFT</th>\n",
       "    </tr>\n",
       "    <tr>\n",
       "      <th>Date</th>\n",
       "      <th></th>\n",
       "      <th></th>\n",
       "      <th></th>\n",
       "      <th></th>\n",
       "    </tr>\n",
       "  </thead>\n",
       "  <tbody>\n",
       "    <tr>\n",
       "      <th>2011-10-03</th>\n",
       "      <td>       NaN</td>\n",
       "      <td>NaN</td>\n",
       "      <td> 160.215759</td>\n",
       "      <td> 22.067647</td>\n",
       "    </tr>\n",
       "    <tr>\n",
       "      <th>2011-10-04</th>\n",
       "      <td> 49.985934</td>\n",
       "      <td>NaN</td>\n",
       "      <td>        NaN</td>\n",
       "      <td>       NaN</td>\n",
       "    </tr>\n",
       "    <tr>\n",
       "      <th>2011-10-05</th>\n",
       "      <td> 50.757520</td>\n",
       "      <td>NaN</td>\n",
       "      <td> 163.507179</td>\n",
       "      <td>       NaN</td>\n",
       "    </tr>\n",
       "    <tr>\n",
       "      <th>2011-10-06</th>\n",
       "      <td> 50.639437</td>\n",
       "      <td>NaN</td>\n",
       "      <td> 167.982011</td>\n",
       "      <td>       NaN</td>\n",
       "    </tr>\n",
       "    <tr>\n",
       "      <th>2011-10-07</th>\n",
       "      <td> 49.623615</td>\n",
       "      <td>NaN</td>\n",
       "      <td> 168.629195</td>\n",
       "      <td> 23.614990</td>\n",
       "    </tr>\n",
       "  </tbody>\n",
       "</table>\n",
       "</div>"
      ],
      "text/plain": [
       "                 AAPL  GOOG         IBM       MSFT\n",
       "Date                                              \n",
       "2011-10-03        NaN   NaN  160.215759  22.067647\n",
       "2011-10-04  49.985934   NaN         NaN        NaN\n",
       "2011-10-05  50.757520   NaN  163.507179        NaN\n",
       "2011-10-06  50.639437   NaN  167.982011        NaN\n",
       "2011-10-07  49.623615   NaN  168.629195  23.614990"
      ]
     },
     "execution_count": 43,
     "metadata": {},
     "output_type": "execute_result"
    }
   ],
   "source": [
    "df.ix[0, 'AAPL'] = np.nan\n",
    "df.ix[1, ['GOOG', 'IBM']] = np.nan\n",
    "df.ix[[1, 2, 3], 'MSFT'] = np.nan\n",
    "\n",
    "df.head()"
   ]
  },
  {
   "cell_type": "markdown",
   "metadata": {},
   "source": [
    "Pandas has great support for computing with missing values."
   ]
  },
  {
   "cell_type": "code",
   "execution_count": 44,
   "metadata": {
    "collapsed": false
   },
   "outputs": [
    {
     "data": {
      "text/plain": [
       "Date\n",
       "2011-10-03   NaN\n",
       "2011-10-04   NaN\n",
       "2011-10-05   NaN\n",
       "2011-10-06   NaN\n",
       "2011-10-07   NaN\n",
       "dtype: float64"
      ]
     },
     "execution_count": 44,
     "metadata": {},
     "output_type": "execute_result"
    }
   ],
   "source": [
    "(df.AAPL + df.GOOG).head()"
   ]
  },
  {
   "cell_type": "markdown",
   "metadata": {},
   "source": [
    "One common approacht to impute missing values in time series is forward filling."
   ]
  },
  {
   "cell_type": "code",
   "execution_count": 45,
   "metadata": {
    "collapsed": false
   },
   "outputs": [
    {
     "data": {
      "text/html": [
       "<div style=\"max-height:1000px;max-width:1500px;overflow:auto;\">\n",
       "<table border=\"1\" class=\"dataframe\">\n",
       "  <thead>\n",
       "    <tr style=\"text-align: right;\">\n",
       "      <th></th>\n",
       "      <th>AAPL</th>\n",
       "      <th>GOOG</th>\n",
       "      <th>IBM</th>\n",
       "      <th>MSFT</th>\n",
       "    </tr>\n",
       "    <tr>\n",
       "      <th>Date</th>\n",
       "      <th></th>\n",
       "      <th></th>\n",
       "      <th></th>\n",
       "      <th></th>\n",
       "    </tr>\n",
       "  </thead>\n",
       "  <tbody>\n",
       "    <tr>\n",
       "      <th>2011-10-03</th>\n",
       "      <td>       NaN</td>\n",
       "      <td>NaN</td>\n",
       "      <td> 160.215759</td>\n",
       "      <td> 22.067647</td>\n",
       "    </tr>\n",
       "    <tr>\n",
       "      <th>2011-10-04</th>\n",
       "      <td> 49.985934</td>\n",
       "      <td>NaN</td>\n",
       "      <td> 160.215759</td>\n",
       "      <td> 22.067647</td>\n",
       "    </tr>\n",
       "    <tr>\n",
       "      <th>2011-10-05</th>\n",
       "      <td> 50.757520</td>\n",
       "      <td>NaN</td>\n",
       "      <td> 163.507179</td>\n",
       "      <td> 22.067647</td>\n",
       "    </tr>\n",
       "    <tr>\n",
       "      <th>2011-10-06</th>\n",
       "      <td> 50.639437</td>\n",
       "      <td>NaN</td>\n",
       "      <td> 167.982011</td>\n",
       "      <td> 22.067647</td>\n",
       "    </tr>\n",
       "    <tr>\n",
       "      <th>2011-10-07</th>\n",
       "      <td> 49.623615</td>\n",
       "      <td>NaN</td>\n",
       "      <td> 168.629195</td>\n",
       "      <td> 23.614990</td>\n",
       "    </tr>\n",
       "  </tbody>\n",
       "</table>\n",
       "</div>"
      ],
      "text/plain": [
       "                 AAPL  GOOG         IBM       MSFT\n",
       "Date                                              \n",
       "2011-10-03        NaN   NaN  160.215759  22.067647\n",
       "2011-10-04  49.985934   NaN  160.215759  22.067647\n",
       "2011-10-05  50.757520   NaN  163.507179  22.067647\n",
       "2011-10-06  50.639437   NaN  167.982011  22.067647\n",
       "2011-10-07  49.623615   NaN  168.629195  23.614990"
      ]
     },
     "execution_count": 45,
     "metadata": {},
     "output_type": "execute_result"
    }
   ],
   "source": [
    "df.ffill().head()"
   ]
  },
  {
   "cell_type": "code",
   "execution_count": null,
   "metadata": {
    "collapsed": true
   },
   "outputs": [],
   "source": []
  }
 ],
 "metadata": {
  "kernelspec": {
   "display_name": "Python 3",
   "language": "python",
   "name": "python3"
  },
  "language_info": {
   "codemirror_mode": {
    "name": "ipython",
    "version": 3
   },
   "file_extension": ".py",
   "mimetype": "text/x-python",
   "name": "python",
   "nbconvert_exporter": "python",
   "pygments_lexer": "ipython3",
   "version": "3.4.3"
  }
 },
 "nbformat": 4,
 "nbformat_minor": 0
}
